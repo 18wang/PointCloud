{
 "cells": [
  {
   "cell_type": "markdown",
   "metadata": {
    "pycharm": {
     "name": "#%% md\n"
    }
   },
   "source": [
    "## python绘制colormap初探\n",
    "\n",
    "- 汪星宇\n",
    "- 2021年12月25日\n",
    "\n",
    "为了直观地显示点云配准的结果, 常见的可视化手段是引入`colormap`, 有些地方也把图例的条带叫`colorbar`. 中文可以叫做**色彩映射**或者**色谱图**.\n",
    "下面是*gom inspect*软件中配准结果的一个样例, 这里隐藏了colorbar.\n",
    "\n",
    "<img src=\"../media/gom_colormap.jpg\" alt=\"gom colormap 示意图\" width = 800>\n",
    "\n",
    "`colormap` 是一个常见的需求, 我将尝试利用`matplotlib`, `open3d`, `vtk`, `pyqtgraph`等实现它.\n",
    "\n",
    "### 1. `matplotlib`中的`colormap`\n",
    "#### 1.1. 基本的`colorbar`显示\n",
    "官方的参考链接[Customized Colorbars Tutorial](https://matplotlib.org/stable/tutorials/colors/colorbar_only.html)\n",
    "对应的函数名叫做`<Figure>.colorbar`, 传入**色彩映射**和**坐标轴**, colorbar可以设置连续的, 离散的, 也可以是任意长度的离散区间.\n",
    "\n",
    "`matplotlib.cm.ScalarMappable`用于生成`colormap`对应的色彩映射"
   ]
  },
  {
   "cell_type": "code",
   "execution_count": 1,
   "metadata": {
    "pycharm": {
     "name": "#%%\n"
    }
   },
   "outputs": [
    {
     "data": {
      "text/plain": "<Figure size 432x72 with 1 Axes>",
      "image/png": "[encoded data removed]"
     },
     "metadata": {
      "needs_background": "light"
     },
     "output_type": "display_data"
    }
   ],
   "source": [
    "import matplotlib.pyplot as plt\n",
    "import matplotlib as mpl\n",
    "import matplotlib\n",
    "import numpy as np\n",
    "# 显示负号\n",
    "matplotlib.rcParams['axes.unicode_minus']=False\n",
    "\n",
    "def PlotColorbar(cmap, Range=[0, 1], label='Some Units'):\n",
    "    fig, ax = plt.subplots(figsize=(6, 1))\n",
    "    fig.subplots_adjust(bottom=0.5)\n",
    "    norm = mpl.colors.Normalize(vmin=Range[0], vmax=Range[1])    # 归一化显示\n",
    "    Colorbar = mpl.cm.ScalarMappable(norm=norm, cmap=cmap)\n",
    "    fig.colorbar(Colorbar, cax=ax, orientation='horizontal', label=label)\n",
    "\n",
    "# matplotlib提供了 众多可选的色彩风格\n",
    "# cmap = mpl.cm.hsv\n",
    "cmap = mpl.cm.gist_rainbow          # 色彩风格\n",
    "Range = [5, 10]             # 坐标范围\n",
    "PlotColorbar(cmap, Range)"
   ]
  },
  {
   "cell_type": "markdown",
   "metadata": {
    "pycharm": {
     "name": "#%% md\n"
    }
   },
   "source": [
    "#### 1.2. 自定义的`colorbar`\n",
    "`colorbar`的本质是**RGBA**色彩和**归一化数值**之间的映射, 因此可以较为方便地自行定义色彩映射.\n",
    "在`matplotlib`中, 只需要传入不同的参数, 可以自定义任意的色彩映射.\n",
    "\n",
    "- 利用内置`matplotlib.cm.get_cmap(name=None, lut=None)`, 获得`matplotlib.colors.ListedColormap`, 并改变其中的值"
   ]
  },
  {
   "cell_type": "code",
   "execution_count": 2,
   "metadata": {
    "pycharm": {
     "name": "#%%\n"
    }
   },
   "outputs": [
    {
     "data": {
      "text/plain": "<Figure size 432x72 with 1 Axes>",
      "image/png": "[encoded data removed]"
     },
     "metadata": {
      "needs_background": "light"
     },
     "output_type": "display_data"
    },
    {
     "data": {
      "text/plain": "<Figure size 432x72 with 1 Axes>",
      "image/png": "[encoded data removed]"
     },
     "metadata": {
      "needs_background": "light"
     },
     "output_type": "display_data"
    }
   ],
   "source": [
    "# 粗糙离散的色彩\n",
    "c7 = mpl.cm.get_cmap('viridis', 7)\n",
    "PlotColorbar(c7)\n",
    "\n",
    "# 密集的色彩映射采样\n",
    "c4096 = mpl.cm.get_cmap('viridis', 4096)\n",
    "PlotColorbar(c4096)"
   ]
  },
  {
   "cell_type": "markdown",
   "metadata": {
    "pycharm": {
     "name": "#%% md\n"
    }
   },
   "source": [
    "- 使用`matplotlib.colors.ListedColormap(colors, name='from_list', N=None)`生成颜色映射, 传入`list`或`array`格式的*RGB*或*RGBA*数组"
   ]
  },
  {
   "cell_type": "code",
   "execution_count": 3,
   "metadata": {
    "pycharm": {
     "name": "#%%\n"
    }
   },
   "outputs": [
    {
     "data": {
      "text/plain": "<Figure size 432x72 with 1 Axes>",
      "image/png": "[encoded data removed]"
     },
     "metadata": {
      "needs_background": "light"
     },
     "output_type": "display_data"
    }
   ],
   "source": [
    "# numpy 生成归一化数组\n",
    "one2zero = np.linspace(1, 0, 128)\n",
    "zero = np.zeros((128))\n",
    "zero2one = np.flip(one2zero)\n",
    "R = np.concatenate([one2zero, zero[1:]]).reshape([-1,1])\n",
    "G = np.concatenate([zero2one, one2zero[1:]]).reshape([-1,1])\n",
    "B = np.concatenate([zero, zero2one[1:]]).reshape([-1,1])\n",
    "\n",
    "RGBArray = np.array(np.concatenate([R, G, B], axis=1))      # 三色数组拼接\n",
    "Red_Green_Blue = mpl.colors.ListedColormap(RGBArray)\n",
    "\n",
    "PlotColorbar(Red_Green_Blue)"
   ]
  },
  {
   "cell_type": "markdown",
   "metadata": {
    "pycharm": {
     "name": "#%% md\n"
    }
   },
   "source": [
    "但看起来结果和gom软件的色谱并不相同, 也许应该从提供的风格中截取.\n",
    "尽管原始的风格并不相同, 但是通过截取恰当的长度之后, 得到的`colorbar`看起来完全一致."
   ]
  },
  {
   "cell_type": "code",
   "execution_count": 4,
   "metadata": {
    "pycharm": {
     "name": "#%%\n"
    }
   },
   "outputs": [
    {
     "data": {
      "text/plain": "<Figure size 432x72 with 1 Axes>",
      "image/png": "[encoded data removed]"
     },
     "metadata": {
      "needs_background": "light"
     },
     "output_type": "display_data"
    }
   ],
   "source": [
    "# 从'gist_rainbow'提取色谱\n",
    "rainbowColor = mpl.cm.get_cmap('gist_rainbow')\n",
    "rainbowColortemp = rainbowColor(np.linspace(0.75, 0, 256))  # 数值映射\n",
    "GomColorBar = mpl.colors.ListedColormap(rainbowColortemp)\n",
    "\n",
    "PlotColorbar(GomColorBar)"
   ]
  },
  {
   "cell_type": "code",
   "execution_count": 5,
   "metadata": {
    "pycharm": {
     "name": "#%%\n"
    }
   },
   "outputs": [
    {
     "data": {
      "text/plain": "<Figure size 432x72 with 1 Axes>",
      "image/png": "[encoded data removed]"
     },
     "metadata": {
      "needs_background": "light"
     },
     "output_type": "display_data"
    }
   ],
   "source": [
    "# 从'hsv'提取色谱\n",
    "hsvColor = mpl.cm.get_cmap('hsv')\n",
    "hsvColortemp = hsvColor(np.linspace(2/3, 0, 256))   # 数值映射\n",
    "GomColorBar = mpl.colors.ListedColormap(hsvColortemp)\n",
    "\n",
    "PlotColorbar(GomColorBar)"
   ]
  },
  {
   "cell_type": "code",
   "execution_count": 6,
   "metadata": {
    "pycharm": {
     "name": "#%%\n"
    }
   },
   "outputs": [
    {
     "data": {
      "text/plain": "<Figure size 432x72 with 1 Axes>",
      "image/png": "[encoded data removed]"
     },
     "metadata": {
      "needs_background": "light"
     },
     "output_type": "display_data"
    }
   ],
   "source": [
    "# jet 并不太像\n",
    "PlotColorbar(mpl.cm.jet)"
   ]
  },
  {
   "cell_type": "markdown",
   "metadata": {
    "pycharm": {
     "name": "#%% md\n"
    }
   },
   "source": [
    "#### 1.3. 绘制带有`colorbar`的3D图形实例\n",
    "常规的带有色彩映射的三维图像, 其`colorbar`的绘制主要是针对某一轴的, 比如`z轴`高度的色彩映射, 在点云配准中并不适用.\n",
    "\n",
    "下面展示的是采用`plot_surface`中的`facecolors`参数的例子, 给每一片表面提供不同的色彩映射, 其原理还是对色彩进行数值索引.\n",
    "\n",
    "[Colorbar for matplotlib plot_surface using facecolors](https://stackoverflow.com/questions/42924993/colorbar-for-matplotlib-plot-surface-using-facecolors) 这里给出了具有高度信息的三维*surface*的色彩映射指导.\n",
    "\n",
    "- 使用`facecolors`, 参数数量不少于`face`的数量, 可以多不会报错\n"
   ]
  },
  {
   "cell_type": "code",
   "execution_count": 7,
   "metadata": {
    "pycharm": {
     "name": "#%%\n"
    }
   },
   "outputs": [
    {
     "data": {
      "text/plain": "<Figure size 432x288 with 2 Axes>",
      "image/png": "[encoded data removed]"
     },
     "metadata": {
      "needs_background": "light"
     },
     "output_type": "display_data"
    }
   ],
   "source": [
    "import numpy as np\n",
    "import matplotlib.pyplot as plt\n",
    "from matplotlib import cm\n",
    "import matplotlib.colors\n",
    "\n",
    "# 3d图像\n",
    "fig = plt.figure()\n",
    "ax = fig.add_subplot(111, projection='3d')\n",
    "\n",
    "# 点坐标 -> 网格\n",
    "x = np.arange(5)\n",
    "X,Y = np.meshgrid(x,x)\n",
    "Z = np.ones_like(X)\n",
    "\n",
    "# 色彩参数信息, norm 归一化  4*4的面\n",
    "V = np.array([[3,2,2,3 ],[1,0,3,2],[2,1,0,2], [1,0,2,0] ])\n",
    "norm = matplotlib.colors.Normalize(vmin=0, vmax=3)\n",
    "ax.plot_surface(X, Y, Z, facecolors=GomColorBar(norm(V)), shade=False)\n",
    "\n",
    "m = cm.ScalarMappable(cmap=GomColorBar, norm=norm)\n",
    "m.set_array([])\n",
    "plt.colorbar(m)\n",
    "\n",
    "ax.set_xlabel('x')\n",
    "ax.set_ylabel('y')\n",
    "plt.show()"
   ]
  },
  {
   "cell_type": "markdown",
   "metadata": {
    "pycharm": {
     "name": "#%% md\n"
    }
   },
   "source": [
    "`matplotlib`所提供的`colorbar`和`colormap`能够较为方便地解决很多二维和三维显示上的问题, 但是并不非常适用于点云格式文件, 因此没有进一步使用其做点云配准结果展示.\n",
    "\n",
    "不过我们之前创建的`GomColorBar`, 可以方便地迁移到别的环境中去.\n",
    "\n",
    "### 2. `Open3D`中的`colormap`\n",
    "通过索引`GomColorBar`的色彩, 对`<Open3D.geometory.PointCloud>.colors`进行一一赋值, 可以得到对应的`colormap`, 示意图如下.\n",
    "\n",
    "<img src=\"../meida/open3d_colormap.png\" alt=\"Open3D中显示colormap\" width = 750 />\n",
    "\n",
    "在`Open3D`中的显示`colormap`仍然存在的一些重要问题如下:\n",
    "\n",
    "- [ ] 尽管可以绘制`colormap`, 但Open3D无法插入`colorbar`\n",
    "- [ ] 尽管可以计算ICP或者任意其他的匹配误差, 但是仅能获得*误差绝对值*, 不能体现偏差的正负. 也许可以通过计算并引入点云的法向量解决\n",
    "- [ ] 尽管可以显示点云`PointCloud`的误差映射, 但对于stl文件模型的`Mesh`格式数据, 其色彩映射是以面的形式呈现的, 如果通用是色彩索引那就需要计算面和面的距离; 不过如果精度要求不高, 也许可以通过面的顶点近似."
   ]
  },
  {
   "cell_type": "markdown",
   "metadata": {
    "pycharm": {
     "name": "#%% md\n"
    }
   },
   "source": [
    "### 3. `VTK`中的`colormap`\n",
    "\n",
    "下一步工作\n"
   ]
  }
 ],
 "metadata": {
  "kernelspec": {
   "display_name": "Python 3 (ipykernel)",
   "language": "python",
   "name": "python3"
  },
  "language_info": {
   "codemirror_mode": {
    "name": "ipython",
    "version": 3
   },
   "file_extension": ".py",
   "mimetype": "text/x-python",
   "name": "python",
   "nbconvert_exporter": "python",
   "pygments_lexer": "ipython3",
   "version": "3.9.7"
  }
 },
 "nbformat": 4,
 "nbformat_minor": 1
}