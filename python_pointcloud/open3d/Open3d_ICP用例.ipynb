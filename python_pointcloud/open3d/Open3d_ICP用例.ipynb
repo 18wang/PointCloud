{
 "cells": [
  {
   "cell_type": "markdown",
   "source": [
    "## Open3d ICP用例\n",
    "Open3d是一个结构精简, 功能全面的3D数据处理库, 且也有相应的维护与管理. 尽管点云处理仅是其核心功能的一部分, 但是足够我们进行常规的处理需要了.\n",
    "\n",
    "下面进行迭代最近点算法(Iterative Closest Point, ICP)的学习和使用.\n",
    "\n",
    "----------------------\n",
    "### 0. 粗配准 Global registration\n",
    "[粗配准](http://www.open3d.org/docs/release/tutorial/pipelines/global_registration.html)\n",
    "\n",
    "粗配准不需要初始变换矩阵 `trans_init`, 结果很粗放, 但是可以为进一步ICP配准提供*初值*.\n",
    "\n",
    "下面使用了最简单的*随机采样一致RANSAC*配准算法, 可以得到**粗对齐矩阵**."
   ],
   "metadata": {
    "collapsed": false
   }
  },
  {
   "cell_type": "code",
   "execution_count": 1,
   "outputs": [
    {
     "name": "stdout",
     "output_type": "stream",
     "text": [
      "Jupyter environment detected. Enabling Open3D WebVisualizer.\n",
      "[Open3D INFO] WebRTC GUI backend enabled.\n",
      "[Open3D INFO] WebRTCWindowSystem: HTTP handshake server disabled.\n",
      ":: Load two point clouds and disturb initial pose.\n",
      ":: Downsample with a voxel size 0.050.\n",
      ":: Estimate normal with search radius 0.100.\n",
      ":: Compute FPFH feature with search radius 0.250.\n",
      ":: Downsample with a voxel size 0.050.\n",
      ":: Estimate normal with search radius 0.100.\n",
      ":: Compute FPFH feature with search radius 0.250.\n",
      ":: RANSAC registration on downsampled point clouds.\n",
      "   Since the downsampling voxel size is 0.050,\n",
      "   we use a liberal distance threshold 0.075.\n",
      "全局配准结果: RegistrationResult with fitness=4.025465e-01, inlier_rmse=4.076945e-02, and correspondence_set size of 411\n",
      "Access transformation to get result.\n",
      "全局配准矩阵: [[ 0.84353399  0.01539879 -0.536855    0.61036551]\n",
      " [-0.15436482  0.96436303 -0.21488475  0.82958226]\n",
      " [ 0.51441414  0.26413411  0.81585002 -1.45666251]\n",
      " [ 0.          0.          0.          1.        ]]\n"
     ]
    }
   ],
   "source": [
    "import open3d as o3d\n",
    "import numpy as np\n",
    "import copy\n",
    "import time\n",
    "\n",
    "def draw_registration_result(source, target, transformation):\n",
    "    \"\"\"\n",
    "    可视化函数\n",
    "    :param source:\n",
    "    :param target:\n",
    "    :param transformation:\n",
    "    :return:\n",
    "    \"\"\"\n",
    "    source_temp = copy.deepcopy(source)\n",
    "    target_temp = copy.deepcopy(target)\n",
    "    source_temp.paint_uniform_color([1, 0.706, 0])\n",
    "    target_temp.paint_uniform_color([0, 0.651, 0.929])\n",
    "    source_temp.transform(transformation)\n",
    "    o3d.visualization.draw_geometries([source_temp, target_temp],\n",
    "                                      zoom=0.4559,\n",
    "                                      front=[0.6452, -0.3036, -0.7011],\n",
    "                                      lookat=[1.9892, 2.0208, 1.8945],\n",
    "                                      up=[-0.2779, -0.9482, 0.1556])\n",
    "\n",
    "\n",
    "def preprocess_point_cloud(pcd, voxel_size):\n",
    "    \"\"\"\n",
    "    点云预处理 降采样\n",
    "    :param pcd: 点云数据\n",
    "    :param voxel_size: 体素采样大小\n",
    "    :return: 降采样后点云, FPFH点快速特征直方图\n",
    "    \"\"\"\n",
    "    print(\":: Downsample with a voxel size %.3f.\" % voxel_size)\n",
    "    pcd_down = pcd.voxel_down_sample(voxel_size)\n",
    "\n",
    "    radius_normal = voxel_size * 2\n",
    "    print(\":: Estimate normal with search radius %.3f.\" % radius_normal)\n",
    "    pcd_down.estimate_normals(\n",
    "        o3d.geometry.KDTreeSearchParamHybrid(radius=radius_normal, max_nn=30))\n",
    "\n",
    "    radius_feature = voxel_size * 5\n",
    "    print(\":: Compute FPFH feature with search radius %.3f.\" % radius_feature)\n",
    "    pcd_fpfh = o3d.pipelines.registration.compute_fpfh_feature(\n",
    "        pcd_down,\n",
    "        o3d.geometry.KDTreeSearchParamHybrid(radius=radius_feature, max_nn=100))\n",
    "    return pcd_down, pcd_fpfh\n",
    "\n",
    "\n",
    "def prepare_dataset(voxel_size):\n",
    "    \"\"\"\n",
    "    点云文件读取和整理函数\n",
    "    :param voxel_size: 体素大小\n",
    "    :return: source, target, source_down, target_down, source_fpfh, target_fpfh\n",
    "    \"\"\"\n",
    "    print(\":: Load two point clouds and disturb initial pose.\")\n",
    "    source = o3d.io.read_point_cloud(\"../data/cloud_bin_0.pcd\")\n",
    "    target = o3d.io.read_point_cloud(\"../data/cloud_bin_1.pcd\")\n",
    "    # trans_init = np.asarray([[0.0, 0.0, 1.0, 0.0], [1.0, 0.0, 0.0, 0.0],\n",
    "    #                          [0.0, 1.0, 0.0, 0.0], [0.0, 0.0, 0.0, 1.0]])\n",
    "    trans_init = np.identity(4)\n",
    "    source.transform(trans_init)\n",
    "    draw_registration_result(source, target, np.identity(4))\n",
    "\n",
    "    source_down, source_fpfh = preprocess_point_cloud(source, voxel_size)\n",
    "    target_down, target_fpfh = preprocess_point_cloud(target, voxel_size)\n",
    "    return source, target, source_down, target_down, source_fpfh, target_fpfh\n",
    "\n",
    "voxel_size = 0.05  # means 5cm for this dataset\n",
    "source, target, source_down, target_down, source_fpfh, target_fpfh = prepare_dataset(\n",
    "    voxel_size)\n",
    "\n",
    "def execute_global_registration(source_down, target_down, source_fpfh,\n",
    "                                target_fpfh, voxel_size):\n",
    "    \"\"\"\n",
    "    全局匹配函数\n",
    "    :param source_down:\n",
    "    :param target_down:\n",
    "    :param source_fpfh:\n",
    "    :param target_fpfh:\n",
    "    :param voxel_size:\n",
    "    :return:\n",
    "    \"\"\"\n",
    "    distance_threshold = voxel_size * 1.5\n",
    "    print(\":: RANSAC registration on downsampled point clouds.\")\n",
    "    print(\"   Since the downsampling voxel size is %.3f,\" % voxel_size)\n",
    "    print(\"   we use a liberal distance threshold %.3f.\" % distance_threshold)\n",
    "    result = o3d.pipelines.registration.registration_ransac_based_on_feature_matching(\n",
    "        source_down, target_down, source_fpfh, target_fpfh, True,\n",
    "        distance_threshold,\n",
    "        o3d.pipelines.registration.TransformationEstimationPointToPoint(False),\n",
    "        3, [\n",
    "            o3d.pipelines.registration.CorrespondenceCheckerBasedOnEdgeLength(\n",
    "                0.9),\n",
    "            o3d.pipelines.registration.CorrespondenceCheckerBasedOnDistance(\n",
    "                distance_threshold)\n",
    "        ], o3d.pipelines.registration.RANSACConvergenceCriteria(100000, 0.999))\n",
    "    return result\n",
    "\n",
    "\n",
    "result_ransac = execute_global_registration(source_down, target_down,\n",
    "                                            source_fpfh, target_fpfh,\n",
    "                                            voxel_size)\n",
    "\n",
    "trans_init = np.array(result_ransac.transformation)\n",
    "print(\"全局配准结果:\", result_ransac)\n",
    "print(\"全局配准矩阵:\", trans_init)\n",
    "\n",
    "draw_registration_result(source_down, target_down, result_ransac.transformation)"
   ],
   "metadata": {
    "collapsed": false,
    "pycharm": {
     "name": "#%%\n"
    }
   }
  },
  {
   "cell_type": "markdown",
   "source": [
    "#### 0.1 快速全局匹配"
   ],
   "metadata": {
    "collapsed": false,
    "pycharm": {
     "name": "#%% md\n"
    }
   }
  },
  {
   "cell_type": "code",
   "execution_count": 2,
   "outputs": [
    {
     "name": "stdout",
     "output_type": "stream",
     "text": [
      ":: Apply fast global registration with distance threshold 0.025\n",
      "Fast global registration took 0.085 sec.\n",
      "\n",
      "RegistrationResult with fitness=5.073529e-01, inlier_rmse=1.745625e-02, and correspondence_set size of 2415\n",
      "Access transformation to get result.\n",
      "[[ 0.8417196   0.00736148 -0.53986473  0.63798603]\n",
      " [-0.1486846   0.96440503 -0.2186683   0.81391545]\n",
      " [ 0.51903854  0.26432696  0.81285315 -1.4787301 ]\n",
      " [-0.          0.         -0.          1.        ]]\n"
     ]
    }
   ],
   "source": [
    "def execute_fast_global_registration(source_down, target_down, source_fpfh,\n",
    "                                     target_fpfh, voxel_size):\n",
    "    distance_threshold = voxel_size * 0.5\n",
    "    print(\":: Apply fast global registration with distance threshold %.3f\" \\\n",
    "            % distance_threshold)\n",
    "    result = o3d.pipelines.registration.registration_fgr_based_on_feature_matching(\n",
    "        source_down, target_down, source_fpfh, target_fpfh,\n",
    "        o3d.pipelines.registration.FastGlobalRegistrationOption(\n",
    "            maximum_correspondence_distance=distance_threshold))\n",
    "    return result\n",
    "\n",
    "start = time.time()\n",
    "result_fast = execute_fast_global_registration(source_down, target_down,\n",
    "                                               source_fpfh, target_fpfh,\n",
    "                                               voxel_size)\n",
    "print(\"Fast global registration took %.3f sec.\\n\" % (time.time() - start))\n",
    "print(result_fast)\n",
    "draw_registration_result(source_down, target_down, result_fast.transformation)\n",
    "\n",
    "trans_init = np.array(result_fast.transformation)\n",
    "print(result_fast.transformation)"
   ],
   "metadata": {
    "collapsed": false,
    "pycharm": {
     "name": "#%%\n"
    }
   }
  },
  {
   "cell_type": "markdown",
   "source": [
    "清空之前数据, 防止串扰"
   ],
   "metadata": {
    "collapsed": false,
    "pycharm": {
     "name": "#%% md\n"
    }
   }
  },
  {
   "cell_type": "code",
   "execution_count": 3,
   "outputs": [],
   "source": [
    "# %reset"
   ],
   "metadata": {
    "collapsed": false,
    "pycharm": {
     "name": "#%%\n"
    }
   }
  },
  {
   "cell_type": "markdown",
   "source": [
    "--------------------------------------------------\n",
    "\n",
    "### 1. 官方用例\n",
    "主要参考: [ICP registration](http://www.open3d.org/docs/release/tutorial/pipelines/icp_registration.html)\n"
   ],
   "metadata": {
    "collapsed": false,
    "pycharm": {
     "name": "#%% md\n"
    }
   }
  },
  {
   "cell_type": "code",
   "execution_count": 4,
   "outputs": [],
   "source": [
    "import open3d as o3d\n",
    "import numpy as np\n",
    "import copy\n",
    "\n",
    "def draw_registration_result(source, target, transformation):\n",
    "    \"\"\"\n",
    "    点云配准可视化函数\n",
    "    :param source: 待配准点云 黄色\n",
    "    :param target: 目标点云 青绿色\n",
    "    :param transformation: 变换矩阵\n",
    "    :return: None\n",
    "    \"\"\"\n",
    "    source_temp = copy.deepcopy(source)\n",
    "    target_temp = copy.deepcopy(target)\n",
    "    source_temp.paint_uniform_color([1, 0.706, 0])\n",
    "    target_temp.paint_uniform_color([0, 0.651, 0.929])\n",
    "    source_temp.transform(transformation)\n",
    "    o3d.visualization.draw_geometries([source_temp, target_temp],\n",
    "                                      zoom=0.4459,\n",
    "                                      front=[0.9288, -0.2951, -0.2242],\n",
    "                                      lookat=[1.6784, 2.0612, 1.4451],\n",
    "                                      up=[-0.3402, -0.9189, -0.1996])\n"
   ],
   "metadata": {
    "collapsed": false,
    "pycharm": {
     "name": "#%%\n"
    }
   }
  },
  {
   "cell_type": "markdown",
   "source": [
    "初始的对齐一般使用 `Global registration` 方法 [例程](http://www.open3d.org/docs/release/tutorial/pipelines/global_registration.html)\n"
   ],
   "metadata": {
    "collapsed": false,
    "pycharm": {
     "name": "#%% md\n"
    }
   }
  },
  {
   "cell_type": "code",
   "execution_count": 5,
   "outputs": [],
   "source": [
    "# 读取点云文件\n",
    "source = o3d.io.read_point_cloud(\"../data/cloud_bin_0.pcd\")\n",
    "target = o3d.io.read_point_cloud(\"../data/cloud_bin_1.pcd\")\n",
    "threshold = 0.02    # 匹配阈值\n",
    "\n",
    "# Global registration 矩阵\n",
    "\n",
    "# trans_init = np.identity(4)\n",
    "# 教程给出的init\n",
    "# trans_init = np.asarray([[0.862, 0.011, -0.507, 0.5],\n",
    "#                          [-0.139, 0.967, -0.215, 0.7],\n",
    "#                          [0.487, 0.255, 0.835, -1.4], [0.0, 0.0, 0.0, 1.0]])\n",
    "\n",
    "draw_registration_result(source, target, trans_init)"
   ],
   "metadata": {
    "collapsed": false,
    "pycharm": {
     "name": "#%%\n"
    }
   }
  },
  {
   "cell_type": "code",
   "execution_count": 6,
   "outputs": [
    {
     "name": "stdout",
     "output_type": "stream",
     "text": [
      "1 alignment\n",
      "RegistrationResult with fitness=6.209068e-01, inlier_rmse=7.601182e-03, and correspondence_set size of 123458\n",
      "Access transformation to get result.\n"
     ]
    }
   ],
   "source": [
    "# 第一次 匹配\n",
    "print(\"1 alignment\")\n",
    "evaluation = o3d.pipelines.registration.evaluate_registration(\n",
    "    source, target, threshold, trans_init)\n",
    "print(evaluation)"
   ],
   "metadata": {
    "collapsed": false,
    "pycharm": {
     "name": "#%%\n"
    }
   }
  },
  {
   "cell_type": "markdown",
   "source": [
    "#### 点对点比较\n",
    "\n"
   ],
   "metadata": {
    "collapsed": false,
    "pycharm": {
     "name": "#%% md\n"
    }
   }
  },
  {
   "cell_type": "code",
   "execution_count": 7,
   "outputs": [
    {
     "name": "stdout",
     "output_type": "stream",
     "text": [
      "Apply point-to-point ICP\n",
      "RegistrationResult with fitness=6.211582e-01, inlier_rmse=6.564378e-03, and correspondence_set size of 123508\n",
      "Access transformation to get result.\n",
      "Transformation is:\n",
      "[[ 0.84048718  0.00732684 -0.54178188  0.64405486]\n",
      " [-0.14786229  0.96505781 -0.21633345  0.81039089]\n",
      " [ 0.5212658   0.26193461  0.81220209 -1.48424266]\n",
      " [ 0.          0.          0.          1.        ]]\n",
      "运算时间: 1.3550660610198975 s\n"
     ]
    }
   ],
   "source": [
    "import time\n",
    "\n",
    "# 开始时间\n",
    "startTime = time.time()\n",
    "\n",
    "# ICP 配准 默认30次迭代\n",
    "print(\"Apply point-to-point ICP\")\n",
    "reg_p2p = o3d.pipelines.registration.registration_icp(\n",
    "    source, target, threshold, trans_init,\n",
    "    o3d.pipelines.registration.TransformationEstimationPointToPoint())\n",
    "print(reg_p2p)\n",
    "print(\"Transformation is:\")\n",
    "print(reg_p2p.transformation)\n",
    "endTime = time.time()\n",
    "print('运算时间: {} s'.format(endTime - startTime))"
   ],
   "metadata": {
    "collapsed": false,
    "pycharm": {
     "name": "#%%\n"
    }
   }
  },
  {
   "cell_type": "code",
   "execution_count": 8,
   "outputs": [],
   "source": [
    "draw_registration_result(source, target, reg_p2p.transformation)\n"
   ],
   "metadata": {
    "collapsed": false,
    "pycharm": {
     "name": "#%%\n"
    }
   }
  },
  {
   "cell_type": "markdown",
   "source": [
    "增加迭代次数, `max_iteration` 2000次.\n",
    "匹配效果有了较好提升, 训练时间也相应变长了不少.\n"
   ],
   "metadata": {
    "collapsed": false,
    "pycharm": {
     "name": "#%% md\n"
    }
   }
  },
  {
   "cell_type": "code",
   "execution_count": 9,
   "outputs": [
    {
     "name": "stdout",
     "output_type": "stream",
     "text": [
      "RegistrationResult with fitness=6.211582e-01, inlier_rmse=6.564378e-03, and correspondence_set size of 123508\n",
      "Access transformation to get result.\n",
      "Transformation is:\n",
      "[[ 0.84048718  0.00732684 -0.54178188  0.64405486]\n",
      " [-0.14786229  0.96505781 -0.21633345  0.81039089]\n",
      " [ 0.5212658   0.26193461  0.81220209 -1.48424266]\n",
      " [ 0.          0.          0.          1.        ]]\n",
      "运算时间: 1.8823580741882324 s\n"
     ]
    }
   ],
   "source": [
    "# 开始时间\n",
    "startTime = time.time()\n",
    "\n",
    "# ICP 配准\n",
    "reg_p2p = o3d.pipelines.registration.registration_icp(\n",
    "    source, target, threshold, trans_init,\n",
    "    o3d.pipelines.registration.TransformationEstimationPointToPoint(),\n",
    "    o3d.pipelines.registration.ICPConvergenceCriteria(max_iteration=2000))\n",
    "print(reg_p2p)\n",
    "print(\"Transformation is:\")\n",
    "print(reg_p2p.transformation)\n",
    "endTime = time.time()\n",
    "print('运算时间: {} s'.format(endTime - startTime))\n",
    "# draw_registration_result(source, target, reg_p2p.transformation)\n"
   ],
   "metadata": {
    "collapsed": false,
    "pycharm": {
     "name": "#%%\n"
    }
   }
  },
  {
   "cell_type": "markdown",
   "source": [
    "#### 点对面比较\n",
    "点对面比较效果很好, 且运算速度很快."
   ],
   "metadata": {
    "collapsed": false,
    "pycharm": {
     "name": "#%% md\n"
    }
   }
  },
  {
   "cell_type": "code",
   "execution_count": 10,
   "outputs": [
    {
     "name": "stdout",
     "output_type": "stream",
     "text": [
      "Apply point-to-plane ICP\n",
      "RegistrationResult with fitness=6.210275e-01, inlier_rmse=6.565173e-03, and correspondence_set size of 123482\n",
      "Access transformation to get result.\n",
      "Transformation is:\n",
      "[[ 0.84047184  0.00663112 -0.54181464  0.64487082]\n",
      " [-0.14734413  0.9650432  -0.21675177  0.8095104 ]\n",
      " [ 0.52143723  0.26200696  0.8120687  -1.48472365]\n",
      " [ 0.          0.          0.          1.        ]]\n",
      "运算时间: 0.6929140090942383 s\n"
     ]
    }
   ],
   "source": [
    "# 开始时间\n",
    "startTime = time.time()\n",
    "\n",
    "print(\"Apply point-to-plane ICP\")\n",
    "reg_p2l = o3d.pipelines.registration.registration_icp(\n",
    "    source, target, threshold, trans_init,\n",
    "    o3d.pipelines.registration.TransformationEstimationPointToPlane())\n",
    "print(reg_p2l)\n",
    "print(\"Transformation is:\")\n",
    "print(reg_p2l.transformation)\n",
    "endTime = time.time()\n",
    "print('运算时间: {} s'.format(endTime - startTime))\n",
    "\n",
    "# draw_registration_result(source, target, reg_p2l.transformation)\n"
   ],
   "metadata": {
    "collapsed": false,
    "pycharm": {
     "name": "#%%\n"
    }
   }
  },
  {
   "cell_type": "markdown",
   "source": [
    "增加迭代次数, `max_iteration` 2000次.\n",
    "相比30次, 变化不大, 计算时长也近似.\n",
    "\n",
    "> 注意到如果使用很好的初始变换矩阵, 运算时间将会大大缩短."
   ],
   "metadata": {
    "collapsed": false,
    "pycharm": {
     "name": "#%% md\n"
    }
   }
  },
  {
   "cell_type": "code",
   "execution_count": 11,
   "outputs": [
    {
     "name": "stdout",
     "output_type": "stream",
     "text": [
      "Apply point-to-plane ICP\n",
      "RegistrationResult with fitness=6.210275e-01, inlier_rmse=6.565173e-03, and correspondence_set size of 123482\n",
      "Access transformation to get result.\n",
      "Transformation is:\n",
      "[[ 0.84047184  0.00663112 -0.54181464  0.64487082]\n",
      " [-0.14734413  0.9650432  -0.21675177  0.8095104 ]\n",
      " [ 0.52143723  0.26200696  0.8120687  -1.48472365]\n",
      " [ 0.          0.          0.          1.        ]]\n",
      "运算时间: 0.794975757598877 s\n"
     ]
    }
   ],
   "source": [
    "# 开始时间\n",
    "startTime = time.time()\n",
    "\n",
    "print(\"Apply point-to-plane ICP\")\n",
    "reg_p2l = o3d.pipelines.registration.registration_icp(\n",
    "    source, target, threshold, trans_init,\n",
    "    o3d.pipelines.registration.TransformationEstimationPointToPlane(),\n",
    "    o3d.pipelines.registration.ICPConvergenceCriteria(max_iteration=2000))\n",
    "print(reg_p2l)\n",
    "print(\"Transformation is:\")\n",
    "print(reg_p2l.transformation)\n",
    "endTime = time.time()\n",
    "print('运算时间: {} s'.format(endTime - startTime))\n",
    "\n",
    "draw_registration_result(source, target, reg_p2l.transformation)\n"
   ],
   "metadata": {
    "collapsed": false,
    "pycharm": {
     "name": "#%%\n"
    }
   }
  },
  {
   "cell_type": "code",
   "execution_count": 12,
   "outputs": [
    {
     "name": "stdout",
     "output_type": "stream",
     "text": [
      "[[1.29708717 2.37313138 2.24693085]\n",
      " [1.30058623 2.38606423 2.15585233]\n",
      " [1.39567678 2.37072615 2.20223917]\n",
      " ...\n",
      " [2.72785974 2.34765625 1.19140625]\n",
      " [1.37036602 2.41163762 0.84374872]\n",
      " [1.29958513 2.39776017 1.15736005]]\n"
     ]
    }
   ],
   "source": [
    "# 点云转 ndarray\n",
    "import numpy as np\n",
    "\n",
    "aaa = np.asarray(source_down.points)\n",
    "print(aaa)\n",
    "\n",
    "\n",
    "\n"
   ],
   "metadata": {
    "collapsed": false,
    "pycharm": {
     "name": "#%%\n"
    }
   }
  }
 ],
 "metadata": {
  "kernelspec": {
   "display_name": "Python 3",
   "language": "python",
   "name": "python3"
  },
  "language_info": {
   "codemirror_mode": {
    "name": "ipython",
    "version": 2
   },
   "file_extension": ".py",
   "mimetype": "text/x-python",
   "name": "python",
   "nbconvert_exporter": "python",
   "pygments_lexer": "ipython2",
   "version": "2.7.6"
  }
 },
 "nbformat": 4,
 "nbformat_minor": 0
}