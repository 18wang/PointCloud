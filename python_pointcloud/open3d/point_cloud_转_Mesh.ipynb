{
 "cells": [
  {
   "cell_type": "code",
   "execution_count": null,
   "metadata": {
    "collapsed": true
   },
   "outputs": [],
   "source": []
  },
  {
   "cell_type": "markdown",
   "source": [
    "http://www.open3d.org/docs/release/tutorial/pipelines/rgbd_integration.html?highlight=mesh#:~:text=into%20the%20volume.-,Extract%20a,mesh,-Mesh\n",
    "\n",
    "\n",
    "https://stackoverflow.com/questions/56965268/how-do-i-convert-a-3d-point-cloud-ply-into-a-mesh-with-faces-and-vertices\n",
    "\n",
    "http://www.open3d.org/docs/release/tutorial/geometry/surface_reconstruction.html?highlight=pivot\n",
    "\n",
    "https://towardsdatascience.com/5-step-guide-to-generate-3d-meshes-from-point-clouds-with-python-36bad397d8ba\n",
    "\n",
    "\n",
    "\n",
    "https://cs184team.github.io/cs184-final/writeup.html"
   ],
   "metadata": {
    "collapsed": false,
    "pycharm": {
     "name": "#%% md\n"
    }
   }
  }
 ],
 "metadata": {
  "kernelspec": {
   "display_name": "Python 3",
   "language": "python",
   "name": "python3"
  },
  "language_info": {
   "codemirror_mode": {
    "name": "ipython",
    "version": 2
   },
   "file_extension": ".py",
   "mimetype": "text/x-python",
   "name": "python",
   "nbconvert_exporter": "python",
   "pygments_lexer": "ipython2",
   "version": "2.7.6"
  }
 },
 "nbformat": 4,
 "nbformat_minor": 0
}