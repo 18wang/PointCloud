{
 "cells": [
  {
   "cell_type": "markdown",
   "metadata": {
    "pycharm": {
     "name": "#%% md\n"
    }
   },
   "source": [
    "## 点云交互显示与圈选\n",
    "- 汪星宇\n",
    "- 2021年12月\n",
    "\n",
    "Open3D 官方提供了简单的点云交互功能, 可以满足基本的点云圈选显示功能, 官方的教程, [Interactive visualization](http://www.open3d.org/docs/0.14.1/tutorial/visualization/interactive_visualization.html).\n",
    "\n",
    "不过, 圈选需要调用`o3d.visualization.draw_geometries_with_editing`, 好处是不需要进行额外的操作.\n",
    "\n",
    "目前仅能实现两个功能:\n",
    "1. 点云二维圈选, 保存并显示圈选的二维投影范围内的内容\n",
    "2. 手动选点的ICP配准, 选取两幅点云中位置相近的几个点, 然后进行ICP配准"
   ]
  },
  {
   "cell_type": "code",
   "execution_count": 3,
   "metadata": {
    "collapsed": true
   },
   "outputs": [
    {
     "name": "stdout",
     "output_type": "stream",
     "text": [
      "Demo for manual geometry cropping\n",
      "1) Press 'Y' twice to align geometry with negative direction of y-axis\n",
      "2) Press 'K' to lock screen and to switch to selection mode\n",
      "3) Drag for rectangle selection,\n",
      "   or use ctrl + left click for polygon selection\n",
      "4) Press 'C' to get a selected geometry and to save it\n",
      "5) Press 'F' to switch to freeview mode\n"
     ]
    }
   ],
   "source": [
    "# examples/python/visualization/interactive_visualization.py\n",
    "import numpy as np\n",
    "import copy\n",
    "import open3d as o3d\n",
    "import open3d_tutorial\n",
    "\n",
    "# 使用指南, 一般先调好视角, 按键K锁定, ctrl+左键圈选, 按键C保存\n",
    "def demo_crop_geometry():\n",
    "    print(\"Demo for manual geometry cropping\")\n",
    "    print(\n",
    "        \"1) Press 'Y' twice to align geometry with negative direction of y-axis\"\n",
    "    )\n",
    "    print(\"2) Press 'K' to lock screen and to switch to selection mode\")\n",
    "    print(\"3) Drag for rectangle selection,\")\n",
    "    print(\"   or use ctrl + left click for polygon selection\")\n",
    "    print(\"4) Press 'C' to get a selected geometry and to save it\")\n",
    "    print(\"5) Press 'F' to switch to freeview mode\")\n",
    "    pcd = o3d.io.read_point_cloud(\"../data/cloud_bin_0.pcd\")\n",
    "    o3d.visualization.draw_geometries_with_editing([pcd])\n",
    "\n",
    "demo_crop_geometry()\n"
   ]
  },
  {
   "cell_type": "markdown",
   "metadata": {
    "pycharm": {
     "name": "#%% md\n"
    }
   },
   "source": [
    "原始的点云数据显示如下:\n",
    "\n",
    "![png](../docs/点云交互显示与圈选/1.png)\n",
    "\n",
    "按住`ctrl+letf click`圈选二维形状如下:\n",
    "\n",
    "![png](../docs/点云交互显示与圈选/2.png)\n",
    "\n",
    "选中的二维形状投影包含的三维点云如下:\n",
    "\n",
    "![png](../docs/点云交互显示与圈选/3.png)\n",
    "\n",
    "我们可以记录选中的点云文件和圈选点的坐标(以`JSON`格式存放), 但是似乎还是有点bug, JSON中圈选的点坐标显示为`null`\n",
    "\n",
    "![png](../docs/点云交互显示与圈选/4.png)"
   ]
  },
  {
   "cell_type": "code",
   "execution_count": 7,
   "metadata": {
    "pycharm": {
     "name": "#%%\n"
    }
   },
   "outputs": [
    {
     "name": "stdout",
     "output_type": "stream",
     "text": [
      "Demo for manual ICP\n",
      "Visualization of two point clouds before manual alignment\n",
      "\n",
      "1) Please pick at least three correspondences using [shift + left click]\n",
      "   Press [shift + right click] to undo point picking\n",
      "2) After picking points, press 'Q' to close the window\n",
      "[Open3D INFO] Picked point #96686 (2.7, 2.0, 1.0) to add in queue.\n",
      "[Open3D INFO] Picked point #95905 (2.2, 2.0, 0.91) to add in queue.\n",
      "[Open3D INFO] Picked point #57976 (2.1, 1.6, 1.5) to add in queue.\n",
      "\n",
      "\n",
      "1) Please pick at least three correspondences using [shift + left click]\n",
      "   Press [shift + right click] to undo point picking\n",
      "2) After picking points, press 'Q' to close the window\n",
      "[Open3D INFO] Picked point #79919 (2.4, 2.1, 1.2) to add in queue.\n",
      "[Open3D INFO] Picked point #83667 (2.0, 2.2, 0.94) to add in queue.\n",
      "[Open3D INFO] Picked point #35711 (1.6, 1.7, 1.3) to add in queue.\n",
      "\n",
      "[79919, 83667, 35711] [96686, 95905, 57976]\n",
      "std::vector<Eigen::Vector3d> with 198835 elements.\n",
      "Use numpy.asarray() to access data. <class 'open3d.cpu.pybind.utility.Vector3dVector'>\n",
      "[[2.66796875 2.0000627  0.99609375]\n",
      " [2.23828125 2.00085258 0.91015625]\n",
      " [2.13671875 1.57421875 1.51819575]]\n",
      "Compute a rough transform using the correspondences given by user\n",
      "std::vector<Eigen::Vector2i> with 3 elements.\n",
      "Use numpy.asarray() to access data.\n",
      "Perform point-to-point ICP refinement\n",
      "\n"
     ]
    }
   ],
   "source": [
    "import open3d as o3d\n",
    "import numpy as np\n",
    "import copy\n",
    "\n",
    "# 选点函数\n",
    "def pick_points(pcd):\n",
    "    print(\"\")\n",
    "    print(\n",
    "        \"1) Please pick at least three correspondences using [shift + left click]\"\n",
    "    )\n",
    "    print(\"   Press [shift + right click] to undo point picking\")\n",
    "    print(\"2) After picking points, press 'Q' to close the window\")\n",
    "    vis = o3d.visualization.VisualizerWithEditing()\n",
    "    vis.create_window()\n",
    "    vis.add_geometry(pcd)\n",
    "    vis.run()  # user picks points\n",
    "    vis.destroy_window()\n",
    "    print(\"\")\n",
    "    return vis.get_picked_points()\n",
    "\n",
    "# 绘制配准结果\n",
    "def draw_registration_result(source, target, transformation):\n",
    "    source_temp = copy.deepcopy(source)\n",
    "    target_temp = copy.deepcopy(target)\n",
    "    source_temp.paint_uniform_color([1, 0.706, 0])\n",
    "    target_temp.paint_uniform_color([0, 0.651, 0.929])\n",
    "    source_temp.transform(transformation)\n",
    "    o3d.visualization.draw_geometries([source_temp, target_temp])\n",
    "\n",
    "# 手动选点配准\n",
    "def demo_manual_registration():\n",
    "    print(\"Demo for manual ICP\")\n",
    "    source = o3d.io.read_point_cloud(\"../data/cloud_bin_0.pcd\")\n",
    "    target = o3d.io.read_point_cloud(\"../data/cloud_bin_1.pcd\")\n",
    "    print(\"Visualization of two point clouds before manual alignment\")\n",
    "    draw_registration_result(source, target, np.identity(4))\n",
    "\n",
    "    # pick points from two point clouds and builds correspondences\n",
    "    picked_id_source = pick_points(source)\n",
    "    picked_id_target = pick_points(target)\n",
    "\n",
    "    assert (len(picked_id_source) >= 3 and len(picked_id_target) >= 3)\n",
    "    assert (len(picked_id_source) == len(picked_id_target))\n",
    "    corr = np.zeros((len(picked_id_source), 2))\n",
    "    corr[:, 0] = picked_id_source\n",
    "    corr[:, 1] = picked_id_target\n",
    "\n",
    "    # estimate rough transformation using correspondences\n",
    "    print(\"Compute a rough transform using the correspondences given by user\")\n",
    "    p2p = o3d.pipelines.registration.TransformationEstimationPointToPoint()\n",
    "    trans_init = p2p.compute_transformation(source, target,\n",
    "                                            o3d.utility.Vector2iVector(corr))\n",
    "\n",
    "\n",
    "    # point-to-point ICP for refinement\n",
    "    print(\"Perform point-to-point ICP refinement\")\n",
    "    threshold = 0.03  # 3cm distance threshold\n",
    "    reg_p2p = o3d.pipelines.registration.registration_icp(\n",
    "        source, target, threshold, trans_init,\n",
    "        o3d.pipelines.registration.TransformationEstimationPointToPoint())\n",
    "    draw_registration_result(source, target, reg_p2p.transformation)\n",
    "    print(\"\")\n",
    "\n",
    "demo_manual_registration()"
   ]
  },
  {
   "cell_type": "markdown",
   "metadata": {
    "pycharm": {
     "name": "#%% md\n"
    }
   },
   "source": [
    "点云配准的原始数据和配准结果如上图所示, 具体的手动配准选点过程如下图所示\n",
    "\n",
    "按住`shift+left click`选点, 按`shift+left click`顺次取消.\n",
    "在一张点云中取相关点(3个及以上):\n",
    "\n",
    "![png](../docs/点云交互显示与圈选/5.png)\n",
    "\n",
    "在另一张点云的相近位置取关键点:\n",
    "\n",
    "![png](../docs/点云交互显示与圈选/6.png)\n"
   ]
  }
 ],
 "metadata": {
  "kernelspec": {
   "display_name": "Python 3 (ipykernel)",
   "language": "python",
   "name": "python3"
  },
  "language_info": {
   "codemirror_mode": {
    "name": "ipython",
    "version": 3
   },
   "file_extension": ".py",
   "mimetype": "text/x-python",
   "name": "python",
   "nbconvert_exporter": "python",
   "pygments_lexer": "ipython3",
   "version": "3.9.7"
  }
 },
 "nbformat": 4,
 "nbformat_minor": 1
}