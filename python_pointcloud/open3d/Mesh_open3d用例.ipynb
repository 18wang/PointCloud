{
 "cells": [
  {
   "cell_type": "markdown",
   "metadata": {
    "collapsed": true,
    "pycharm": {
     "name": "#%% md\n"
    }
   },
   "source": [
    "## Mesh open3d用例\n",
    "\n",
    "### 1. Mesh 数据读取\n",
    "\n",
    "open3d 支持从 `ply`, `stl`, `obj`, `off`, `gltf/glb` 等格式的 mesh 读取。\n",
    "\n",
    "\n",
    "PLY数据\n",
    "> 一个典型的PLY对象定义只是一个顶点的(x,y,z)三元组列表和一个由顶点列表的索引描述的面的列表。大多数PLY文件包括这些核心信息。顶点和面是 \"元素 \"的两个例子，而PLY文件的主要内容是它的元素列表。\n",
    ">\n",
    "> 在一个给定的文件中，每个元素都有一个固定数量的 \"属性\"，这些属性是为每个元素指定的。PLY文件中的典型信息只包含两个元素，即顶点的（x,y,z）三元组和每个面的顶点指数。"
   ]
  },
  {
   "cell_type": "code",
   "execution_count": 31,
   "outputs": [
    {
     "name": "stdout",
     "output_type": "stream",
     "text": [
      "TriangleMesh with 1444 points and 908 triangles.\n",
      "Vertices:\n",
      "[[ 1.5199995   0.          9.23999977]\n",
      " [ 1.62529016  0.          7.96932936]\n",
      " [15.33216381  0.         13.98172188]\n",
      " ...\n",
      " [ 1.80283511 79.77000427 10.48104286]\n",
      " [ 1.69999945 79.77000427  9.23999977]\n",
      " [ 1.69999945 74.20000458  9.23999977]]\n",
      "Triangles:\n",
      "[[   0    1    2]\n",
      " [   3    4    1]\n",
      " [   1    4    5]\n",
      " ...\n",
      " [1436 1438 1439]\n",
      " [1440 1441 1442]\n",
      " [1440 1442 1443]]\n"
     ]
    }
   ],
   "source": [
    "# 读取 mesh\n",
    "import open3d as o3d\n",
    "import numpy as np\n",
    "\n",
    "filePath = \"../data/pz.STL\"\n",
    "mesh = o3d.io.read_triangle_mesh(filePath)\n",
    "# mesh.compute_vertex_normals()\n",
    "\n",
    "print(mesh)\n",
    "print('Vertices:')\n",
    "print(np.asarray(mesh.vertices))\n",
    "print('Triangles:')\n",
    "print(np.asarray(mesh.triangles))"
   ],
   "metadata": {
    "collapsed": false,
    "pycharm": {
     "name": "#%%\n"
    }
   }
  },
  {
   "cell_type": "markdown",
   "source": [
    "此时的可视化结果，只有灰度，没有计算表面法向量。  因此缺乏立体感"
   ],
   "metadata": {
    "collapsed": false,
    "pycharm": {
     "name": "#%% md\n"
    }
   }
  },
  {
   "cell_type": "code",
   "execution_count": 32,
   "outputs": [
    {
     "name": "stdout",
     "output_type": "stream",
     "text": [
      "Try to render a mesh with normals (exist: True) and colors (exist: False)\n",
      "A mesh with no normals and no colors does not look good.\n"
     ]
    }
   ],
   "source": [
    "# 可视化\n",
    "print(\"Try to render a mesh with normals (exist: \" +\n",
    "      str(mesh.has_vertex_normals()) + \") and colors (exist: \" +\n",
    "      str(mesh.has_vertex_colors()) + \")\")\n",
    "o3d.visualization.draw_geometries([mesh])\n",
    "print(\"A mesh with no normals and no colors does not look good.\")\n"
   ],
   "metadata": {
    "collapsed": false,
    "pycharm": {
     "name": "#%%\n"
    }
   }
  },
  {
   "cell_type": "markdown",
   "source": [
    "### 2. 法向量计算\n",
    "读取 `ply` 生成的 mesh，初始法向量为 `empty`.\n"
   ],
   "metadata": {
    "collapsed": false,
    "pycharm": {
     "name": "#%% md\n"
    }
   }
  },
  {
   "cell_type": "code",
   "execution_count": 33,
   "outputs": [
    {
     "name": "stdout",
     "output_type": "stream",
     "text": [
      "Computing normal and rendering it.\n",
      "\n",
      "原始法向量：\n",
      "[]\n",
      "\n",
      "法向量估计结果：\n",
      "[[ 0.         -1.          0.        ]\n",
      " [-0.         -1.          0.        ]\n",
      " [ 0.         -1.          0.        ]\n",
      " ...\n",
      " [-0.96940019  0.          0.2454858 ]\n",
      " [-0.9965845   0.          0.08257926]\n",
      " [-0.9965845   0.          0.08257926]]\n"
     ]
    }
   ],
   "source": [
    "# 表面法线计算\n",
    "print(\"Computing normal and rendering it.\")\n",
    "print(\"\\n原始法向量：\")\n",
    "print(np.asarray(mesh.triangle_normals))\n",
    "mesh.compute_vertex_normals()\n",
    "print(\"\\n法向量估计结果：\")\n",
    "print(np.asarray(mesh.triangle_normals))\n",
    "o3d.visualization.draw_geometries([mesh])\n"
   ],
   "metadata": {
    "collapsed": false,
    "pycharm": {
     "name": "#%%\n"
    }
   }
  },
  {
   "cell_type": "markdown",
   "source": [
    "### 3. Mesh 数据复制\n",
    "利用 `numpy` 拷贝 mesh, 选取前一半的点，或者随机采样。\n"
   ],
   "metadata": {
    "collapsed": false,
    "pycharm": {
     "name": "#%% md\n"
    }
   }
  },
  {
   "cell_type": "code",
   "execution_count": 34,
   "outputs": [],
   "source": [
    "import copy\n",
    "\n",
    "# # 选取前一半的点\n",
    "# print(\"We make a partial mesh of only the first half triangles.\")\n",
    "# mesh1 = copy.deepcopy(mesh)\n",
    "# mesh1.triangles = o3d.utility.Vector3iVector(\n",
    "#     np.asarray(mesh1.triangles)[:len(mesh1.triangles) // 2, :])\n",
    "# mesh1.triangle_normals = o3d.utility.Vector3dVector(\n",
    "#     np.asarray(mesh1.triangle_normals)[:len(mesh1.triangle_normals) // 2, :])\n",
    "# print(mesh1.triangles)\n",
    "# o3d.visualization.draw_geometries([mesh1])\n",
    "#\n",
    "# # 随机采样 1/2\n",
    "# mesh1 = copy.deepcopy(mesh)\n",
    "# # 采样点下标\n",
    "# choice = np.random.choice(range(len(mesh1.triangle_normals)),\n",
    "#     len(mesh1.triangle_normals)//2, replace=False)\n",
    "# mesh1.triangles = o3d.utility.Vector3iVector(\n",
    "#     np.asarray(mesh1.triangles)[choice, :])\n",
    "# mesh1.triangle_normals = o3d.utility.Vector3dVector(\n",
    "#     np.asarray(mesh1.triangle_normals)[choice, :])\n",
    "# print(mesh1.triangles)\n",
    "# o3d.visualization.draw_geometries([mesh1])\n",
    "#\n"
   ],
   "metadata": {
    "collapsed": false,
    "pycharm": {
     "name": "#%%\n"
    }
   }
  },
  {
   "cell_type": "markdown",
   "source": [
    "### 4. Mesh 点云采样\n",
    "\n",
    "#### 4.1. uniformly 根据每个三角形面积均匀采样"
   ],
   "metadata": {
    "collapsed": false,
    "pycharm": {
     "name": "#%% md\n"
    }
   }
  },
  {
   "cell_type": "code",
   "execution_count": 36,
   "outputs": [],
   "source": [
    "# o3d.visualization.draw_geometries([mesh])\n",
    "pcd = mesh.sample_points_uniformly(number_of_points=5000)\n",
    "o3d.visualization.draw_geometries([pcd])\n"
   ],
   "metadata": {
    "collapsed": false,
    "pycharm": {
     "name": "#%%\n"
    }
   }
  },
  {
   "cell_type": "markdown",
   "source": [
    "#### 4.2. poisson 曲面均匀分布采样\n",
    "\n",
    "`init_factor` 是预选点云倍数，如采样 n 点、init_factor=5，则预选 5n 点云，进行poisson采样。"
   ],
   "metadata": {
    "collapsed": false,
    "pycharm": {
     "name": "#%% md\n"
    }
   }
  },
  {
   "cell_type": "code",
   "execution_count": 37,
   "outputs": [],
   "source": [
    "pcd = mesh.sample_points_poisson_disk(number_of_points=2500, init_factor=5)\n",
    "o3d.visualization.draw_geometries([pcd])\n"
   ],
   "metadata": {
    "collapsed": false,
    "pycharm": {
     "name": "#%%\n"
    }
   }
  },
  {
   "cell_type": "markdown",
   "source": [
    "### 5. Mesh 网格细分\n"
   ],
   "metadata": {
    "collapsed": false,
    "pycharm": {
     "name": "#%% md\n"
    }
   }
  },
  {
   "cell_type": "code",
   "execution_count": null,
   "outputs": [],
   "source": [],
   "metadata": {
    "collapsed": false,
    "pycharm": {
     "name": "#%%\n"
    }
   }
  },
  {
   "cell_type": "markdown",
   "source": [
    "### 6. Mesh 网格简化\n",
    "\n"
   ],
   "metadata": {
    "collapsed": false,
    "pycharm": {
     "name": "#%% md\n"
    }
   }
  },
  {
   "cell_type": "code",
   "execution_count": null,
   "outputs": [],
   "source": [],
   "metadata": {
    "collapsed": false,
    "pycharm": {
     "name": "#%%"
    }
   }
  }
 ],
 "metadata": {
  "kernelspec": {
   "display_name": "Python 3",
   "language": "python",
   "name": "python3"
  },
  "language_info": {
   "codemirror_mode": {
    "name": "ipython",
    "version": 2
   },
   "file_extension": ".py",
   "mimetype": "text/x-python",
   "name": "python",
   "nbconvert_exporter": "python",
   "pygments_lexer": "ipython2",
   "version": "2.7.6"
  }
 },
 "nbformat": 4,
 "nbformat_minor": 0
}