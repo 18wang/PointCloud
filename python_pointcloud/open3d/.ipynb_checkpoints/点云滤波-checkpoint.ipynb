{
 "cells": [
  {
   "cell_type": "markdown",
   "metadata": {
    "collapsed": true,
    "pycharm": {
     "name": "#%% md\n"
    }
   },
   "source": [
    "## 点云滤波\n",
    "\n",
    "早期的任务方案制定应该都是基于`PCL`库的, 这也为稳健地展开工程项目提供了一个优秀的参考. 因此这里将充分参考`PLC`及其教程, 主要利用`Open3D`和`numpy`进行功能验证实现.\n",
    "\n",
    "`PCL`也提供了不同的滤波方式[参考用例](https://pcl.readthedocs.io/projects/tutorials/en/master/#:~:text=and%20pose%20estimation.-,Filtering,-Filtering%20a%20PointCloud)."
   ]
  },
  {
   "cell_type": "markdown",
   "metadata": {
    "pycharm": {
     "name": "#%% md\n"
    }
   },
   "source": [
    "### 1. 直通滤波\n",
    "简单的中文参考博客:\n",
    "[点云滤波之直通滤波与体素法滤波](https://zhuanlan.zhihu.com/p/64226544)\n",
    "\n",
    "点云直通滤波, 即`PCL`中的`PassThrough filter`, 指定字段，指定坐标范围进行剪裁，可以选择保留范围内的点或者范围外的点。\n",
    "\n",
    "`Open3D`中没有与之直接对应的函数, 但是使用`numpy`可以轻易地实现这功能.\n",
    "\n",
    "`Numpy`的`ndarray`转换成`pcd`格式数据，教程 [numpy 转 pointcloud](http://www.open3d.org/docs/0.12.0/tutorial/geometry/working_with_numpy.html)"
   ]
  },
  {
   "cell_type": "code",
   "execution_count": 6,
   "metadata": {
    "pycharm": {
     "name": "#%%\n"
    }
   },
   "outputs": [
    {
     "data": {
      "text/plain": [
       "array([[1.01953125, 0.88671875, 2.27726722],\n",
       "       [1.04296875, 0.88671875, 2.27699804],\n",
       "       [1.05859375, 0.88671875, 2.27722216],\n",
       "       [1.08472502, 0.88671875, 2.26953125]])"
      ]
     },
     "execution_count": 6,
     "metadata": {},
     "output_type": "execute_result"
    }
   ],
   "source": [
    "# 读取 猫猫 PCD 文件\n",
    "import numpy as np\n",
    "import open3d as o3d\n",
    "\n",
    "FilePath = \"../data/cloud_bin_0.pcd\"\n",
    "source = o3d.io.read_point_cloud(FilePath)\n",
    "source.paint_uniform_color([0, 0.651, 0.929])\n",
    "o3d.visualization.draw_geometries([source],\n",
    "                                    zoom=0.4559,\n",
    "                                    front=[0.6452, -0.3036, -0.7011],\n",
    "                                    lookat=[1.9892, 2.0208, 1.8945],\n",
    "                                    up=[-0.2779, -0.9482, 0.1556])\n",
    "np.asarray(source.points)[:4, :]"
   ]
  },
  {
   "cell_type": "code",
   "execution_count": 17,
   "metadata": {
    "pycharm": {
     "name": "#%%\n"
    }
   },
   "outputs": [],
   "source": [
    "# 直通滤波 PassThrough Filter\n",
    "def PassThroughFilter(pcd, fieldName, limits, limitsNegative=False):\n",
    "    \"\"\"\n",
    "    点云直通滤波\n",
    "    :param pcd: 点云数据\n",
    "    :param fieldName: 坐标轴 'x', 'y', 'z'\n",
    "    :param limits: 过滤区间\n",
    "    :param limitsNegative: 是否反选, 默认limits区间\n",
    "    :return: 过滤后pcd\n",
    "    \"\"\"\n",
    "    dictXYZ = {'x':0, 'y':1, 'z':2}\n",
    "    source = np.asarray(pcd.points)\n",
    "\n",
    "    # 判断滤波坐标轴\n",
    "    try:\n",
    "        xyz = dictXYZ[fieldName]\n",
    "    except KeyError:\n",
    "        print('滤波轴选择错误, 请选坐标轴 \\'x\\', \\'y\\', \\'z\\'')\n",
    "\n",
    "    # 计算左右区间\n",
    "    if limitsNegative:\n",
    "        indexLeft = limits[0] >= source[:, xyz]\n",
    "        indexRight = limits[1] <= source[:, xyz]\n",
    "    else:\n",
    "        indexLeft = limits[0] <= source[:, xyz]\n",
    "        indexRight = limits[1] >= source[:, xyz]\n",
    "\n",
    "    # 合并区间, 滤波\n",
    "    index = np.logical_and(indexLeft, indexRight)\n",
    "    PCD = source[index, :]\n",
    "\n",
    "    # ndarray到pcd\n",
    "    pcd = o3d.geometry.PointCloud()\n",
    "    pcd.points = o3d.utility.Vector3dVector(PCD)\n",
    "    return pcd\n",
    "\n",
    "\n",
    "# 滤波并显示\n",
    "filtered = PassThroughFilter(source, 'y', [0, 2], False)\n",
    "filtered.paint_uniform_color([1, 0.706, 0])\n",
    "o3d.visualization.draw_geometries([filtered],\n",
    "                                    zoom=0.4559,\n",
    "                                    front=[0.6452, -0.3036, -0.7011],\n",
    "                                    lookat=[1.9892, 2.0208, 1.8945],\n",
    "                                    up=[-0.2779, -0.9482, 0.1556])"
   ]
  },
  {
   "cell_type": "markdown",
   "metadata": {},
   "source": [
    "### 2. 体素采样\n",
    "\n",
    "定义:\n",
    "> 体素法滤波，即减少点的数量，减少点云数据，并同时保持点云的形状特征，在提高配准、曲面重建、形状识别等算法速度中非常实用。 PCL实现的VoxelGrid类通过输入的点云数据创建一个三维体素栅格(可把体素栅格想象为微小的空间三维立方体的集合)，然后在每个体素（即三维立方体）内，用体素中所有***点的重心***来近似显示体素中其他点，这样该体素内所有点就用一个重心点最终表示，对于所有体素处理后得到过滤后的点云。 优缺点：这种方法比用体素中心来逼近的方法更慢，但它对于采样点对应曲面的表示更为准确。\n",
    "\n",
    "体素不仅能表征点云表面特征, 还能完成对点云结构内部的描述. 尽管一开始不太容易理解, 但相信如果结合具体的应用实例, 应该可以更好地认识到体素的优势所在.\n",
    "\n",
    "#### 2.1 体素降采样\n",
    "\n",
    "`Open3D`中有 `PointCloud.voxel_down_sample`，其中的参数`voxel_size`的选择需要根据点云的实际稀疏调整。\n",
    "此外还有一些可以查明的点：\n",
    "\n",
    "+ [ ] Open3D中，体素采样可能是中心而非PCL的重心。\n",
    "+ [ ] 三维体元素中，重心和中心的关系如何？"
   ]
  },
  {
   "cell_type": "code",
   "execution_count": 19,
   "metadata": {
    "pycharm": {
     "name": "#%%\n"
    }
   },
   "outputs": [],
   "source": [
    "voxel_size = 0.05\n",
    "downPCD = source.voxel_down_sample(voxel_size=voxel_size)\n",
    "# 显示\n",
    "o3d.visualization.draw_geometries([downPCD],\n",
    "                                  zoom=0.3412,\n",
    "                                  front=[0.4257, -0.2125, -0.8795],\n",
    "                                  lookat=[2.6172, 2.0475, 1.532],\n",
    "                                  up=[-0.0694, -0.9768, 0.2024])"
   ]
  },
  {
   "cell_type": "markdown",
   "metadata": {
    "pycharm": {
     "name": "#%% md\n"
    }
   },
   "source": [
    "#### 2.2 一致降采样\n",
    "`Open3D`还提供了另一种采样模式，`uniform_down_sample`，可以实现每k个点采样一个点。"
   ]
  },
  {
   "cell_type": "code",
   "execution_count": 22,
   "metadata": {
    "pycharm": {
     "name": "#%%\n"
    }
   },
   "outputs": [],
   "source": [
    "every_k_points = 10\n",
    "uniformPCD = source.uniform_down_sample(every_k_points = every_k_points)\n",
    "# 显示\n",
    "o3d.visualization.draw_geometries([uniformPCD],\n",
    "                                  zoom=0.3412,\n",
    "                                  front=[0.4257, -0.2125, -0.8795],\n",
    "                                  lookat=[2.6172, 2.0475, 1.532],\n",
    "                                  up=[-0.0694, -0.9768, 0.2024])"
   ]
  },
  {
   "cell_type": "markdown",
   "metadata": {},
   "source": [
    "### 3. 统计滤波\n",
    "\n"
   ]
  },
  {
   "cell_type": "code",
   "execution_count": 24,
   "metadata": {
    "pycharm": {
     "name": "#%%\n"
    }
   },
   "outputs": [
    {
     "ename": "ImportError",
     "evalue": "cannot import name 'JVisualizer' from 'open3d' (/home/aboo/anaconda3/envs/py39Open3D14/lib/python3.9/site-packages/open3d/__init__.py)",
     "output_type": "error",
     "traceback": [
      "\u001b[0;31m---------------------------------------------------------------------------\u001b[0m",
      "\u001b[0;31mImportError\u001b[0m                               Traceback (most recent call last)",
      "\u001b[0;32m/tmp/ipykernel_8026/1980006855.py\u001b[0m in \u001b[0;36m<module>\u001b[0;34m\u001b[0m\n\u001b[1;32m      1\u001b[0m \u001b[0;32mimport\u001b[0m \u001b[0mnumpy\u001b[0m \u001b[0;32mas\u001b[0m \u001b[0mnp\u001b[0m\u001b[0;34m\u001b[0m\u001b[0;34m\u001b[0m\u001b[0m\n\u001b[1;32m      2\u001b[0m \u001b[0;32mimport\u001b[0m \u001b[0mopen3d\u001b[0m \u001b[0;32mas\u001b[0m \u001b[0mo3d\u001b[0m\u001b[0;34m\u001b[0m\u001b[0;34m\u001b[0m\u001b[0m\n\u001b[0;32m----> 3\u001b[0;31m \u001b[0;32mfrom\u001b[0m \u001b[0mopen3d\u001b[0m \u001b[0;32mimport\u001b[0m \u001b[0mJVisualizer\u001b[0m\u001b[0;34m\u001b[0m\u001b[0;34m\u001b[0m\u001b[0m\n\u001b[0m\u001b[1;32m      4\u001b[0m \u001b[0;34m\u001b[0m\u001b[0m\n\u001b[1;32m      5\u001b[0m \u001b[0mpoints\u001b[0m \u001b[0;34m=\u001b[0m \u001b[0;34m(\u001b[0m\u001b[0mnp\u001b[0m\u001b[0;34m.\u001b[0m\u001b[0mrandom\u001b[0m\u001b[0;34m.\u001b[0m\u001b[0mrand\u001b[0m\u001b[0;34m(\u001b[0m\u001b[0;36m1000\u001b[0m\u001b[0;34m,\u001b[0m \u001b[0;36m3\u001b[0m\u001b[0;34m)\u001b[0m \u001b[0;34m-\u001b[0m \u001b[0;36m0.5\u001b[0m\u001b[0;34m)\u001b[0m \u001b[0;34m/\u001b[0m \u001b[0;36m4\u001b[0m\u001b[0;34m\u001b[0m\u001b[0;34m\u001b[0m\u001b[0m\n",
      "\u001b[0;31mImportError\u001b[0m: cannot import name 'JVisualizer' from 'open3d' (/home/aboo/anaconda3/envs/py39Open3D14/lib/python3.9/site-packages/open3d/__init__.py)"
     ]
    }
   ],
   "source": [
    "import numpy as np\n",
    "import open3d as o3d\n",
    "from open3d import JVisualizer\n",
    "\n",
    "points = (np.random.rand(1000, 3) - 0.5) / 4\n",
    "colors = np.random.rand(1000, 3)\n",
    "\n",
    "pcd = o3d.geometry.PointCloud()\n",
    "pcd.points = o3d.utility.Vector3dVector(points)\n",
    "pcd.colors = o3d.utility.Vector3dVector(colors)\n",
    "\n",
    "visualizer = JVisualizer()\n",
    "visualizer.add_geometry(pcd)\n",
    "visualizer.show()\n",
    "\n",
    "\n"
   ]
  },
  {
   "cell_type": "markdown",
   "metadata": {},
   "source": [
    "### 4. 条件滤波"
   ]
  },
  {
   "cell_type": "code",
   "execution_count": 8,
   "metadata": {
    "pycharm": {
     "name": "#%%\n"
    }
   },
   "outputs": [],
   "source": []
  },
  {
   "cell_type": "markdown",
   "metadata": {},
   "source": [
    "### 5. 直径滤波\n"
   ]
  },
  {
   "cell_type": "code",
   "execution_count": 8,
   "metadata": {
    "pycharm": {
     "name": "#%%\n"
    }
   },
   "outputs": [],
   "source": []
  },
  {
   "cell_type": "markdown",
   "metadata": {},
   "source": [
    "### 6. 任意多边形提取\n"
   ]
  },
  {
   "cell_type": "code",
   "execution_count": 8,
   "metadata": {
    "pycharm": {
     "name": "#%%\n"
    }
   },
   "outputs": [],
   "source": []
  }
 ],
 "metadata": {
  "kernelspec": {
   "display_name": "Python 3 (ipykernel)",
   "language": "python",
   "name": "python3"
  },
  "language_info": {
   "codemirror_mode": {
    "name": "ipython",
    "version": 3
   },
   "file_extension": ".py",
   "mimetype": "text/x-python",
   "name": "python",
   "nbconvert_exporter": "python",
   "pygments_lexer": "ipython3",
   "version": "3.9.7"
  }
 },
 "nbformat": 4,
 "nbformat_minor": 1
}
